{
  "nbformat": 4,
  "nbformat_minor": 0,
  "metadata": {
    "colab": {
      "provenance": []
    },
    "kernelspec": {
      "name": "python3",
      "display_name": "Python 3"
    },
    "language_info": {
      "name": "python"
    }
  },
  "cells": [
    {
      "cell_type": "markdown",
      "source": [
        "Studi Kasus dengan tema \"Student Performance\""
      ],
      "metadata": {
        "id": "IUDcDCgbtTPR"
      }
    },
    {
      "cell_type": "markdown",
      "source": [
        "Dera Kayla-2209116054/B22"
      ],
      "metadata": {
        "id": "jCqD8ZjAxRSR"
      }
    },
    {
      "cell_type": "markdown",
      "source": [
        "#Business Understanding"
      ],
      "metadata": {
        "id": "IZF7aADBtbJO"
      }
    },
    {
      "cell_type": "markdown",
      "source": [
        "**Tujuan bisnis** dari dataset ini adalah untuk menganalisis kinerja siswa atau performa nya didalam kelas berdasarkan berbagai faktor seperti usia, pendidikan orang tua, kesehatan, dan hubungan antara siswa dan keluarganya. Dataset ini juga bertujuan untuk melakukan pengembangan program dukungan siswa yang mungkin memerlukan dukungan tambahan dari segi akademis maupun kesejahteraan mental serta fisiknya\n",
        "\n",
        "\n",
        "\n",
        "**Situasi Bisnis** yang dapat mendasari analisis ini adalah kinerja siswa yang berbeda beda karena beberapa siswa memilih untuk les dan sebagian lagi memilih untuk tidak, serta\n",
        "kesenjangan lain seperti dukungan dari keluarga, hubungan siswa dengan keluarga dan beberapa faktor lain yang menyebabkan stabil atau tidaknya kinerja seorang siswa.\n",
        "\n",
        "\n",
        "**Tujuan** dari Data Mining pada dataset ini adalah meprediksi kinerja siswa siswi di kelas berdasarkan faktor faktor yang mempengaruhi dan juga menganalisis faktor faktor yang mempengaruhi kinerja siswa, serta meningkatkan pemahaman terhadap latar belakang dari masing masing siswa.\n",
        "\n",
        "\n",
        "**Rencana Proyek** untuk menganalisis dataset ini dimulai dengan pengumpulan data dari sumber yang tersedia. Selanjutnya, Pola pola dan karakteristiknya akan diidentifikasi. Kemudian, data tersebut akan dicari tahu apa saja korelasi antar variabel ataupun kolom kolom yang ada. Lalu, kualitas data tersebut akan dinilai dan diidentifikasi masalahnya agar bisa diatasi pada tahapan berikutnya. Semua tahap ini penting dalam menjamin berhasil atau tidaknya analisis data.\n",
        "\n",
        "\n"
      ],
      "metadata": {
        "id": "8mFWlI2Xxhff"
      }
    }
  ]
}